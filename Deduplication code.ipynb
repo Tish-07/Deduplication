{
 "cells": [
  {
   "cell_type": "code",
   "execution_count": 4,
   "metadata": {},
   "outputs": [
    {
     "name": "stderr",
     "output_type": "stream",
     "text": [
      "c:\\users\\tishant\\appdata\\local\\programs\\python\\python36\\lib\\site-packages\\ipykernel_launcher.py:14: SettingWithCopyWarning: \n",
      "A value is trying to be set on a copy of a slice from a DataFrame.\n",
      "Try using .loc[row_indexer,col_indexer] = value instead\n",
      "\n",
      "See the caveats in the documentation: http://pandas.pydata.org/pandas-docs/stable/indexing.html#indexing-view-versus-copy\n",
      "  \n",
      "c:\\users\\tishant\\appdata\\local\\programs\\python\\python36\\lib\\site-packages\\ipykernel_launcher.py:20: SettingWithCopyWarning: \n",
      "A value is trying to be set on a copy of a slice from a DataFrame.\n",
      "Try using .loc[row_indexer,col_indexer] = value instead\n",
      "\n",
      "See the caveats in the documentation: http://pandas.pydata.org/pandas-docs/stable/indexing.html#indexing-view-versus-copy\n",
      "c:\\users\\tishant\\appdata\\local\\programs\\python\\python36\\lib\\site-packages\\ipykernel_launcher.py:29: SettingWithCopyWarning: \n",
      "A value is trying to be set on a copy of a slice from a DataFrame.\n",
      "Try using .loc[row_indexer,col_indexer] = value instead\n",
      "\n",
      "See the caveats in the documentation: http://pandas.pydata.org/pandas-docs/stable/indexing.html#indexing-view-versus-copy\n"
     ]
    },
    {
     "data": {
      "text/plain": [
       "(54, 6)"
      ]
     },
     "execution_count": 4,
     "metadata": {},
     "output_type": "execute_result"
    }
   ],
   "source": [
    "import pandas as pd\n",
    "import nltk\n",
    "\n",
    "train = pd.read_csv('Train.csv')\n",
    "#print (train.shape)\n",
    "train.head()\n",
    "\n",
    "df1 = train.groupby([train.ln,train.fn,train.dob,train.gn]).head(1)\n",
    "\n",
    "from nltk.tokenize import word_tokenize\n",
    "l = []\n",
    "for w1 in df1.ln:\n",
    "    l.append(word_tokenize(w1))\n",
    "df1[\"surname_total\"] = l\n",
    "#print(df1)\n",
    "\n",
    "l2 = []\n",
    "for i in l:\n",
    "    l2.append(max(i,key=len))\n",
    "df1[\"surname_original\"] = l2\n",
    "#print(df1)\n",
    "\n",
    "l3 = []\n",
    "l4 = []\n",
    "for j in df1.fn:\n",
    "    l3.append(word_tokenize(j))\n",
    "for k in l3:\n",
    "    l4.append(max(k,key = len))\n",
    "df1[\"fn_original\"] = l4\n",
    "#print(df1)\n",
    "\n",
    "df2 = df1.groupby([\"surname_original\",\"fn_original\",\"gn\",\"dob\"]).head(1)\n",
    "#df2.drop([\"ln\"], axis = 1,inplace = True)\n",
    "#print(df2,df2.shape)\n",
    "\n",
    "df2[[\"dob\",\"gn\",\"fn\",\"fn_original\",\"ln\",\"surname_original\"]].to_csv(\"filtered_name.csv\",index = False)\n",
    "pd.read_csv(\"filtered_name.csv\").shape"
   ]
  },
  {
   "cell_type": "code",
   "execution_count": null,
   "metadata": {},
   "outputs": [],
   "source": []
  }
 ],
 "metadata": {
  "kernelspec": {
   "display_name": "Python 3",
   "language": "python",
   "name": "python3"
  },
  "language_info": {
   "codemirror_mode": {
    "name": "ipython",
    "version": 3
   },
   "file_extension": ".py",
   "mimetype": "text/x-python",
   "name": "python",
   "nbconvert_exporter": "python",
   "pygments_lexer": "ipython3",
   "version": "3.6.3"
  }
 },
 "nbformat": 4,
 "nbformat_minor": 2
}
